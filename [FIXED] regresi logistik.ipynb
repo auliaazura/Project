{
 "cells": [
  {
   "cell_type": "code",
   "execution_count": 1,
   "id": "d83b1e3c",
   "metadata": {},
   "outputs": [],
   "source": [
    "#imported module\n",
    "import pandas as pd\n",
    "from sklearn.model_selection import train_test_split\n",
    "from sklearn.linear_model import LogisticRegression\n",
    "from sklearn import metrics\n",
    "import seaborn as sn\n",
    "import matplotlib.pyplot as plt"
   ]
  },
  {
   "cell_type": "code",
   "execution_count": 2,
   "id": "1d082e4b",
   "metadata": {},
   "outputs": [],
   "source": [
    "#imported csv file\n",
    "bank = pd.read_csv('bank.csv',sep=';')"
   ]
  },
  {
   "cell_type": "code",
   "execution_count": 3,
   "id": "447895d8",
   "metadata": {},
   "outputs": [
    {
     "data": {
      "text/html": [
       "<div>\n",
       "<style scoped>\n",
       "    .dataframe tbody tr th:only-of-type {\n",
       "        vertical-align: middle;\n",
       "    }\n",
       "\n",
       "    .dataframe tbody tr th {\n",
       "        vertical-align: top;\n",
       "    }\n",
       "\n",
       "    .dataframe thead th {\n",
       "        text-align: right;\n",
       "    }\n",
       "</style>\n",
       "<table border=\"1\" class=\"dataframe\">\n",
       "  <thead>\n",
       "    <tr style=\"text-align: right;\">\n",
       "      <th></th>\n",
       "      <th>age</th>\n",
       "      <th>job</th>\n",
       "      <th>marital</th>\n",
       "      <th>education</th>\n",
       "      <th>balance</th>\n",
       "      <th>housing</th>\n",
       "      <th>loan</th>\n",
       "      <th>contact</th>\n",
       "      <th>day</th>\n",
       "      <th>month</th>\n",
       "      <th>duration</th>\n",
       "      <th>campaign</th>\n",
       "      <th>Target</th>\n",
       "    </tr>\n",
       "  </thead>\n",
       "  <tbody>\n",
       "    <tr>\n",
       "      <th>0</th>\n",
       "      <td>58</td>\n",
       "      <td>management</td>\n",
       "      <td>married</td>\n",
       "      <td>tertiary</td>\n",
       "      <td>2143</td>\n",
       "      <td>yes</td>\n",
       "      <td>no</td>\n",
       "      <td>unknown</td>\n",
       "      <td>5</td>\n",
       "      <td>may</td>\n",
       "      <td>261</td>\n",
       "      <td>1</td>\n",
       "      <td>no</td>\n",
       "    </tr>\n",
       "    <tr>\n",
       "      <th>1</th>\n",
       "      <td>44</td>\n",
       "      <td>technician</td>\n",
       "      <td>single</td>\n",
       "      <td>secondary</td>\n",
       "      <td>29</td>\n",
       "      <td>yes</td>\n",
       "      <td>no</td>\n",
       "      <td>unknown</td>\n",
       "      <td>5</td>\n",
       "      <td>may</td>\n",
       "      <td>151</td>\n",
       "      <td>1</td>\n",
       "      <td>no</td>\n",
       "    </tr>\n",
       "    <tr>\n",
       "      <th>2</th>\n",
       "      <td>33</td>\n",
       "      <td>entrepreneur</td>\n",
       "      <td>married</td>\n",
       "      <td>secondary</td>\n",
       "      <td>2</td>\n",
       "      <td>yes</td>\n",
       "      <td>yes</td>\n",
       "      <td>unknown</td>\n",
       "      <td>5</td>\n",
       "      <td>may</td>\n",
       "      <td>76</td>\n",
       "      <td>1</td>\n",
       "      <td>no</td>\n",
       "    </tr>\n",
       "    <tr>\n",
       "      <th>3</th>\n",
       "      <td>47</td>\n",
       "      <td>blue-collar</td>\n",
       "      <td>married</td>\n",
       "      <td>unknown</td>\n",
       "      <td>1506</td>\n",
       "      <td>yes</td>\n",
       "      <td>no</td>\n",
       "      <td>unknown</td>\n",
       "      <td>5</td>\n",
       "      <td>may</td>\n",
       "      <td>92</td>\n",
       "      <td>1</td>\n",
       "      <td>no</td>\n",
       "    </tr>\n",
       "    <tr>\n",
       "      <th>4</th>\n",
       "      <td>33</td>\n",
       "      <td>unknown</td>\n",
       "      <td>single</td>\n",
       "      <td>unknown</td>\n",
       "      <td>1</td>\n",
       "      <td>no</td>\n",
       "      <td>no</td>\n",
       "      <td>unknown</td>\n",
       "      <td>5</td>\n",
       "      <td>may</td>\n",
       "      <td>198</td>\n",
       "      <td>1</td>\n",
       "      <td>no</td>\n",
       "    </tr>\n",
       "    <tr>\n",
       "      <th>...</th>\n",
       "      <td>...</td>\n",
       "      <td>...</td>\n",
       "      <td>...</td>\n",
       "      <td>...</td>\n",
       "      <td>...</td>\n",
       "      <td>...</td>\n",
       "      <td>...</td>\n",
       "      <td>...</td>\n",
       "      <td>...</td>\n",
       "      <td>...</td>\n",
       "      <td>...</td>\n",
       "      <td>...</td>\n",
       "      <td>...</td>\n",
       "    </tr>\n",
       "    <tr>\n",
       "      <th>45206</th>\n",
       "      <td>51</td>\n",
       "      <td>technician</td>\n",
       "      <td>married</td>\n",
       "      <td>tertiary</td>\n",
       "      <td>825</td>\n",
       "      <td>no</td>\n",
       "      <td>no</td>\n",
       "      <td>cellular</td>\n",
       "      <td>17</td>\n",
       "      <td>nov</td>\n",
       "      <td>977</td>\n",
       "      <td>3</td>\n",
       "      <td>yes</td>\n",
       "    </tr>\n",
       "    <tr>\n",
       "      <th>45207</th>\n",
       "      <td>71</td>\n",
       "      <td>retired</td>\n",
       "      <td>divorced</td>\n",
       "      <td>primary</td>\n",
       "      <td>1729</td>\n",
       "      <td>no</td>\n",
       "      <td>no</td>\n",
       "      <td>cellular</td>\n",
       "      <td>17</td>\n",
       "      <td>nov</td>\n",
       "      <td>456</td>\n",
       "      <td>2</td>\n",
       "      <td>yes</td>\n",
       "    </tr>\n",
       "    <tr>\n",
       "      <th>45208</th>\n",
       "      <td>72</td>\n",
       "      <td>retired</td>\n",
       "      <td>married</td>\n",
       "      <td>secondary</td>\n",
       "      <td>5715</td>\n",
       "      <td>no</td>\n",
       "      <td>no</td>\n",
       "      <td>cellular</td>\n",
       "      <td>17</td>\n",
       "      <td>nov</td>\n",
       "      <td>1127</td>\n",
       "      <td>5</td>\n",
       "      <td>yes</td>\n",
       "    </tr>\n",
       "    <tr>\n",
       "      <th>45209</th>\n",
       "      <td>57</td>\n",
       "      <td>blue-collar</td>\n",
       "      <td>married</td>\n",
       "      <td>secondary</td>\n",
       "      <td>668</td>\n",
       "      <td>no</td>\n",
       "      <td>no</td>\n",
       "      <td>telephone</td>\n",
       "      <td>17</td>\n",
       "      <td>nov</td>\n",
       "      <td>508</td>\n",
       "      <td>4</td>\n",
       "      <td>no</td>\n",
       "    </tr>\n",
       "    <tr>\n",
       "      <th>45210</th>\n",
       "      <td>37</td>\n",
       "      <td>entrepreneur</td>\n",
       "      <td>married</td>\n",
       "      <td>secondary</td>\n",
       "      <td>2971</td>\n",
       "      <td>no</td>\n",
       "      <td>no</td>\n",
       "      <td>cellular</td>\n",
       "      <td>17</td>\n",
       "      <td>nov</td>\n",
       "      <td>361</td>\n",
       "      <td>2</td>\n",
       "      <td>no</td>\n",
       "    </tr>\n",
       "  </tbody>\n",
       "</table>\n",
       "<p>45211 rows × 13 columns</p>\n",
       "</div>"
      ],
      "text/plain": [
       "       age           job   marital  education  balance housing loan  \\\n",
       "0       58    management   married   tertiary     2143     yes   no   \n",
       "1       44    technician    single  secondary       29     yes   no   \n",
       "2       33  entrepreneur   married  secondary        2     yes  yes   \n",
       "3       47   blue-collar   married    unknown     1506     yes   no   \n",
       "4       33       unknown    single    unknown        1      no   no   \n",
       "...    ...           ...       ...        ...      ...     ...  ...   \n",
       "45206   51    technician   married   tertiary      825      no   no   \n",
       "45207   71       retired  divorced    primary     1729      no   no   \n",
       "45208   72       retired   married  secondary     5715      no   no   \n",
       "45209   57   blue-collar   married  secondary      668      no   no   \n",
       "45210   37  entrepreneur   married  secondary     2971      no   no   \n",
       "\n",
       "         contact  day month  duration  campaign Target  \n",
       "0        unknown    5   may       261         1     no  \n",
       "1        unknown    5   may       151         1     no  \n",
       "2        unknown    5   may        76         1     no  \n",
       "3        unknown    5   may        92         1     no  \n",
       "4        unknown    5   may       198         1     no  \n",
       "...          ...  ...   ...       ...       ...    ...  \n",
       "45206   cellular   17   nov       977         3    yes  \n",
       "45207   cellular   17   nov       456         2    yes  \n",
       "45208   cellular   17   nov      1127         5    yes  \n",
       "45209  telephone   17   nov       508         4     no  \n",
       "45210   cellular   17   nov       361         2     no  \n",
       "\n",
       "[45211 rows x 13 columns]"
      ]
     },
     "execution_count": 3,
     "metadata": {},
     "output_type": "execute_result"
    }
   ],
   "source": [
    "#cleaned dataset from NaN Value\n",
    "bank.dropna()"
   ]
  },
  {
   "cell_type": "code",
   "execution_count": 4,
   "id": "b9c1d462",
   "metadata": {},
   "outputs": [],
   "source": [
    "#defined variable\n",
    "job=bank[bank.columns.values[1]][0:]\n",
    "marital=bank[bank.columns.values[2]][0:]\n",
    "education=bank[bank.columns.values[3]][0:]\n",
    "housing=bank[bank.columns.values[5]][0:]\n",
    "loan=bank[bank.columns.values[6]][0:]\n",
    "contact=bank[bank.columns.values[7]][0:]\n",
    "month=bank[bank.columns.values[9]][0:]"
   ]
  },
  {
   "cell_type": "markdown",
   "id": "b4b9bbe1",
   "metadata": {},
   "source": [
    "# OBTAINED UNIQUE VALUE FOR EACH VARIABLE"
   ]
  },
  {
   "cell_type": "code",
   "execution_count": 5,
   "id": "c9c3d7eb",
   "metadata": {},
   "outputs": [
    {
     "data": {
      "text/plain": [
       "array(['management', 'technician', 'entrepreneur', 'blue-collar',\n",
       "       'unknown', 'retired', 'admin.', 'services', 'self-employed',\n",
       "       'unemployed', 'housemaid', 'student'], dtype=object)"
      ]
     },
     "execution_count": 5,
     "metadata": {},
     "output_type": "execute_result"
    }
   ],
   "source": [
    "job.unique()"
   ]
  },
  {
   "cell_type": "code",
   "execution_count": 6,
   "id": "bd8d908b",
   "metadata": {},
   "outputs": [
    {
     "data": {
      "text/plain": [
       "array(['married', 'single', 'divorced'], dtype=object)"
      ]
     },
     "execution_count": 6,
     "metadata": {},
     "output_type": "execute_result"
    }
   ],
   "source": [
    "marital.unique()"
   ]
  },
  {
   "cell_type": "code",
   "execution_count": 7,
   "id": "4a15c3f2",
   "metadata": {},
   "outputs": [
    {
     "data": {
      "text/plain": [
       "array(['tertiary', 'secondary', 'unknown', 'primary'], dtype=object)"
      ]
     },
     "execution_count": 7,
     "metadata": {},
     "output_type": "execute_result"
    }
   ],
   "source": [
    "education.unique()"
   ]
  },
  {
   "cell_type": "code",
   "execution_count": 8,
   "id": "c5a373a7",
   "metadata": {},
   "outputs": [
    {
     "data": {
      "text/plain": [
       "array(['yes', 'no'], dtype=object)"
      ]
     },
     "execution_count": 8,
     "metadata": {},
     "output_type": "execute_result"
    }
   ],
   "source": [
    "housing.unique()"
   ]
  },
  {
   "cell_type": "code",
   "execution_count": 9,
   "id": "8dcefa7b",
   "metadata": {},
   "outputs": [
    {
     "data": {
      "text/plain": [
       "array(['no', 'yes'], dtype=object)"
      ]
     },
     "execution_count": 9,
     "metadata": {},
     "output_type": "execute_result"
    }
   ],
   "source": [
    "loan.unique()"
   ]
  },
  {
   "cell_type": "code",
   "execution_count": 10,
   "id": "eb12d73c",
   "metadata": {},
   "outputs": [
    {
     "data": {
      "text/plain": [
       "array(['unknown', 'cellular', 'telephone'], dtype=object)"
      ]
     },
     "execution_count": 10,
     "metadata": {},
     "output_type": "execute_result"
    }
   ],
   "source": [
    "contact.unique()"
   ]
  },
  {
   "cell_type": "code",
   "execution_count": 11,
   "id": "a6476719",
   "metadata": {},
   "outputs": [
    {
     "data": {
      "text/plain": [
       "array(['may', 'jun', 'jul', 'aug', 'oct', 'nov', 'dec', 'jan', 'feb',\n",
       "       'mar', 'apr', 'sep'], dtype=object)"
      ]
     },
     "execution_count": 11,
     "metadata": {},
     "output_type": "execute_result"
    }
   ],
   "source": [
    "month.unique()"
   ]
  },
  {
   "cell_type": "markdown",
   "id": "f0c5fab7",
   "metadata": {},
   "source": [
    "# CONVERT STRING INTO NUMBER"
   ]
  },
  {
   "cell_type": "code",
   "execution_count": 12,
   "id": "54a83852",
   "metadata": {},
   "outputs": [],
   "source": [
    "#convert string into number\n",
    "def job_new(bank):\n",
    "    if(bank['job']) == 'management':\n",
    "        return '1'\n",
    "    elif (bank['job']) == 'technician':\n",
    "        return '2'\n",
    "    elif (bank['job']) == 'entrepreneur':\n",
    "        return '3'\n",
    "    elif (bank['job']) == 'blue-collar':\n",
    "        return '4'\n",
    "    elif (bank['job']) == 'unknown':\n",
    "        return '5'\n",
    "    elif (bank['job']) == 'retired':\n",
    "        return '6'\n",
    "    elif (bank['job']) == 'admin.':\n",
    "        return '7'\n",
    "    elif (bank['job']) == 'services':\n",
    "        return '8'\n",
    "    elif (bank['job']) == 'self-employed':\n",
    "        return '9'\n",
    "    elif (bank['job']) == 'unemployed':\n",
    "        return '10'\n",
    "    elif (bank['job']) == 'housemaid':\n",
    "        return '11'\n",
    "    elif (bank['job']) == 'student':\n",
    "        return '12'\n",
    "\n",
    "bank['jobnew'] = bank.apply(job_new,axis=1)"
   ]
  },
  {
   "cell_type": "code",
   "execution_count": 13,
   "id": "bc931cfe",
   "metadata": {},
   "outputs": [],
   "source": [
    "def marital_new(bank):\n",
    "    if(bank['marital']) == 'married':\n",
    "        return '1'\n",
    "    elif (bank['marital']) == 'single':\n",
    "        return '2'\n",
    "    elif (bank['marital']) == 'divorced':\n",
    "        return '3'\n",
    "    \n",
    "bank['maritalnew'] = bank.apply(marital_new,axis=1)"
   ]
  },
  {
   "cell_type": "code",
   "execution_count": 33,
   "id": "de03fe51",
   "metadata": {},
   "outputs": [],
   "source": [
    "def education_new(bank):\n",
    "    if(bank['education']) == 'tertiary':\n",
    "        return '1'\n",
    "    elif (bank['education']) == 'secondary':\n",
    "        return '2'\n",
    "    elif (bank['education']) == 'unknown':\n",
    "        return '3'\n",
    "    elif (bank['education']) == 'primary':\n",
    "        return '4'\n",
    "    \n",
    "bank['educationnew'] = bank.apply(education_new,axis=1)"
   ]
  },
  {
   "cell_type": "code",
   "execution_count": 34,
   "id": "846afd49",
   "metadata": {},
   "outputs": [],
   "source": [
    "def housing_new(bank):\n",
    "    if(bank['housing']) == 'yes':\n",
    "        return '1'\n",
    "    elif (bank['housing']) == 'no':\n",
    "        return '0'\n",
    "    \n",
    "bank['housingnew'] = bank.apply(housing_new,axis=1)"
   ]
  },
  {
   "cell_type": "code",
   "execution_count": 35,
   "id": "55711770",
   "metadata": {},
   "outputs": [],
   "source": [
    "def loan_new(bank):\n",
    "    if(bank['loan']) == 'yes':\n",
    "        return '1'\n",
    "    elif (bank['loan']) == 'no':\n",
    "        return '0'\n",
    "    \n",
    "bank['loannew'] = bank.apply(loan_new,axis=1)"
   ]
  },
  {
   "cell_type": "code",
   "execution_count": 36,
   "id": "be18eb7f",
   "metadata": {},
   "outputs": [],
   "source": [
    "def contact_new(bank):\n",
    "    if(bank['contact']) == 'unknown':\n",
    "        return '1'\n",
    "    elif (bank['contact']) == 'cellular':\n",
    "        return '2'\n",
    "    elif (bank['contact']) == 'telephone':\n",
    "        return '3'\n",
    "    \n",
    "bank['contactnew'] = bank.apply(contact_new,axis=1)"
   ]
  },
  {
   "cell_type": "code",
   "execution_count": 37,
   "id": "4ebef85f",
   "metadata": {},
   "outputs": [],
   "source": [
    "def target_new(bank):\n",
    "    if(bank['Target']) == 'yes':\n",
    "        return '1'\n",
    "    elif (bank['Target']) == 'no':\n",
    "        return '0'\n",
    "    \n",
    "bank['targetnew'] = bank.apply(target_new,axis=1)"
   ]
  },
  {
   "cell_type": "code",
   "execution_count": 38,
   "id": "954c0e4a",
   "metadata": {},
   "outputs": [],
   "source": [
    "def month_new(bank):\n",
    "    if(bank['month']) == 'jan':\n",
    "        return '1'\n",
    "    elif (bank['month']) == 'feb':\n",
    "        return '2'\n",
    "    elif (bank['month']) == 'mar':\n",
    "        return '3'\n",
    "    elif (bank['month']) == 'apr':\n",
    "        return '4'\n",
    "    elif (bank['month']) == 'may':\n",
    "        return '5'\n",
    "    elif (bank['month']) == 'jun':\n",
    "        return '6'\n",
    "    elif (bank['month']) == 'jul':\n",
    "        return '7'\n",
    "    elif (bank['month']) == 'aug':\n",
    "        return '8'\n",
    "    elif (bank['month']) == 'sep':\n",
    "        return '9'\n",
    "    elif (bank['month']) == 'oct':\n",
    "        return '10'\n",
    "    elif (bank['month']) == 'nov':\n",
    "        return '11'\n",
    "    elif (bank['month']) == 'dec':\n",
    "        return '12'\n",
    "\n",
    "bank['monthnew'] = bank.apply(month_new,axis=1)"
   ]
  },
  {
   "cell_type": "markdown",
   "id": "20a6f780",
   "metadata": {},
   "source": [
    "# NEW DATASET FOR LOGISTIC REGRESSION"
   ]
  },
  {
   "cell_type": "code",
   "execution_count": 39,
   "id": "eb2c27cd",
   "metadata": {},
   "outputs": [],
   "source": [
    "#new dataset containing those new variables\n",
    "bank_new = pd.DataFrame(bank,columns= ['age', 'balance','day','duration','campaign','jobnew','maritalnew','educationnew','housingnew','loannew','targetnew','contactnew','monthnew','Target'])"
   ]
  },
  {
   "cell_type": "code",
   "execution_count": 40,
   "id": "b6d94a24",
   "metadata": {},
   "outputs": [
    {
     "data": {
      "text/plain": [
       "age              int64\n",
       "balance          int64\n",
       "day              int64\n",
       "duration         int64\n",
       "campaign         int64\n",
       "jobnew          object\n",
       "maritalnew      object\n",
       "educationnew    object\n",
       "housingnew      object\n",
       "loannew         object\n",
       "targetnew       object\n",
       "contactnew      object\n",
       "monthnew        object\n",
       "Target          object\n",
       "dtype: object"
      ]
     },
     "execution_count": 40,
     "metadata": {},
     "output_type": "execute_result"
    }
   ],
   "source": [
    "bank_new.dtypes"
   ]
  },
  {
   "cell_type": "code",
   "execution_count": 41,
   "id": "2902b256",
   "metadata": {},
   "outputs": [],
   "source": [
    "#changed variable data type\n",
    "bank_new['jobnew']=bank_new['jobnew'].astype(str).astype(int)\n",
    "bank_new['maritalnew']=bank_new['maritalnew'].astype(str).astype(int)\n",
    "bank_new['educationnew']=bank_new['educationnew'].astype(str).astype(int)\n",
    "bank_new['housingnew']=bank_new['housingnew'].astype(str).astype(int)\n",
    "bank_new['loannew']=bank_new['loannew'].astype(str).astype(int)\n",
    "bank_new['contactnew']=bank_new['contactnew'].astype(str).astype(int)\n",
    "bank_new['monthnew']=bank_new['monthnew'].astype(str).astype(int)\n",
    "bank_new['targetnew']=bank_new['targetnew'].astype(int)"
   ]
  },
  {
   "cell_type": "code",
   "execution_count": 42,
   "id": "c1cf1003",
   "metadata": {},
   "outputs": [
    {
     "data": {
      "text/plain": [
       "age              int64\n",
       "balance          int64\n",
       "day              int64\n",
       "duration         int64\n",
       "campaign         int64\n",
       "jobnew           int32\n",
       "maritalnew       int32\n",
       "educationnew     int32\n",
       "housingnew       int32\n",
       "loannew          int32\n",
       "targetnew        int32\n",
       "contactnew       int32\n",
       "monthnew         int32\n",
       "Target          object\n",
       "dtype: object"
      ]
     },
     "execution_count": 42,
     "metadata": {},
     "output_type": "execute_result"
    }
   ],
   "source": [
    "bank_new.dtypes"
   ]
  },
  {
   "cell_type": "code",
   "execution_count": 43,
   "id": "fab26f37",
   "metadata": {},
   "outputs": [],
   "source": [
    "#defined variable X and y for logistic regression\n",
    "X = bank_new[['jobnew', 'maritalnew','educationnew','age','balance','day','duration','campaign','housingnew','loannew','contactnew','monthnew']]\n",
    "y = bank_new['targetnew']"
   ]
  },
  {
   "cell_type": "code",
   "execution_count": 44,
   "id": "aeebde3e",
   "metadata": {},
   "outputs": [],
   "source": [
    "#defined train and test data\n",
    "X_train,X_test,y_train,y_test = train_test_split(X,y,test_size=0.25,random_state=0)"
   ]
  },
  {
   "cell_type": "code",
   "execution_count": 45,
   "id": "4249fba4",
   "metadata": {},
   "outputs": [
    {
     "name": "stderr",
     "output_type": "stream",
     "text": [
      "C:\\Users\\USER\\anaconda3\\lib\\site-packages\\sklearn\\linear_model\\_logistic.py:763: ConvergenceWarning: lbfgs failed to converge (status=1):\n",
      "STOP: TOTAL NO. of ITERATIONS REACHED LIMIT.\n",
      "\n",
      "Increase the number of iterations (max_iter) or scale the data as shown in:\n",
      "    https://scikit-learn.org/stable/modules/preprocessing.html\n",
      "Please also refer to the documentation for alternative solver options:\n",
      "    https://scikit-learn.org/stable/modules/linear_model.html#logistic-regression\n",
      "  n_iter_i = _check_optimize_result(\n"
     ]
    }
   ],
   "source": [
    "#regression analysis\n",
    "logistic_regression= LogisticRegression()\n",
    "logistic_regression.fit(X_train,y_train)\n",
    "y_pred=logistic_regression.predict(X_test)"
   ]
  },
  {
   "cell_type": "code",
   "execution_count": 46,
   "id": "ac7df430",
   "metadata": {},
   "outputs": [
    {
     "data": {
      "text/plain": [
       "Text(0.5, 1.0, 'Confusion Matrix')"
      ]
     },
     "execution_count": 46,
     "metadata": {},
     "output_type": "execute_result"
    },
    {
     "data": {
      "image/png": "[encoded data removed]",
      "text/plain": [
       "<Figure size 432x288 with 2 Axes>"
      ]
     },
     "metadata": {
      "needs_background": "light"
     },
     "output_type": "display_data"
    }
   ],
   "source": [
    "#plotted confusion matrix\n",
    "confusion_matrix = pd.crosstab(y_test, y_pred, rownames=['Actual'], colnames=['Predicted'])\n",
    "sn.heatmap(confusion_matrix, annot=True)\n",
    "plt.title(\"Confusion Matrix\",fontweight='bold',fontsize=13)"
   ]
  },
  {
   "cell_type": "code",
   "execution_count": 28,
   "id": "399967a5",
   "metadata": {},
   "outputs": [],
   "source": [
    "predictions = logistic_regression.predict(X_test)"
   ]
  },
  {
   "cell_type": "code",
   "execution_count": 29,
   "id": "a2e3c41b",
   "metadata": {},
   "outputs": [
    {
     "name": "stdout",
     "output_type": "stream",
     "text": [
      "              precision    recall  f1-score   support\n",
      "\n",
      "           0       0.90      0.98      0.94      9978\n",
      "           1       0.57      0.17      0.26      1325\n",
      "\n",
      "    accuracy                           0.89     11303\n",
      "   macro avg       0.74      0.57      0.60     11303\n",
      "weighted avg       0.86      0.89      0.86     11303\n",
      "\n"
     ]
    }
   ],
   "source": [
    "#evaluated the model\n",
    "from sklearn.metrics import classification_report\n",
    "print(classification_report(y_test,predictions))"
   ]
  },
  {
   "cell_type": "code",
   "execution_count": 30,
   "id": "35c20af2",
   "metadata": {},
   "outputs": [],
   "source": [
    "#defined true positive,negative and false positive,negative\n",
    "TP=220\n",
    "TN=9800\n",
    "FP=160\n",
    "FN=1100"
   ]
  },
  {
   "cell_type": "code",
   "execution_count": 31,
   "id": "a4807c16",
   "metadata": {},
   "outputs": [],
   "source": [
    "#False Alarm Ratio\n",
    "FAR =(FP/(TP+FP))\n",
    "#Accuracy\n",
    "ACC =((TP+TN)/(TP+TN+FP+FN))"
   ]
  },
  {
   "cell_type": "code",
   "execution_count": 32,
   "id": "2bfe62f1",
   "metadata": {
    "scrolled": true
   },
   "outputs": [
    {
     "name": "stdout",
     "output_type": "stream",
     "text": [
      "0.42105263157894735\n",
      "0.8882978723404256\n"
     ]
    }
   ],
   "source": [
    "print(FAR)\n",
    "print(ACC)"
   ]
  },
  {
   "cell_type": "markdown",
   "id": "238c139e",
   "metadata": {},
   "source": [
    "# CHECKING VARIABLE CONTRIBUTION THROUGH COEFF USING LINEAR REGRESSION"
   ]
  },
  {
   "cell_type": "code",
   "execution_count": 37,
   "id": "9598ee18",
   "metadata": {},
   "outputs": [],
   "source": [
    "#import module sklearn\n",
    "from sklearn.model_selection import train_test_split\n",
    "X_train, X_test, y_train, y_test = train_test_split(X, y, test_size=0.25, random_state=0)"
   ]
  },
  {
   "cell_type": "code",
   "execution_count": 38,
   "id": "cc52688f",
   "metadata": {},
   "outputs": [
    {
     "data": {
      "text/plain": [
       "LinearRegression()"
      ]
     },
     "execution_count": 38,
     "metadata": {},
     "output_type": "execute_result"
    }
   ],
   "source": [
    "#regression analysis\n",
    "from sklearn.linear_model import LinearRegression\n",
    "regressor = LinearRegression()\n",
    "regressor.fit(X_train, y_train)"
   ]
  },
  {
   "cell_type": "code",
   "execution_count": 39,
   "id": "9c5c2e14",
   "metadata": {},
   "outputs": [
    {
     "data": {
      "text/html": [
       "<div>\n",
       "<style scoped>\n",
       "    .dataframe tbody tr th:only-of-type {\n",
       "        vertical-align: middle;\n",
       "    }\n",
       "\n",
       "    .dataframe tbody tr th {\n",
       "        vertical-align: top;\n",
       "    }\n",
       "\n",
       "    .dataframe thead th {\n",
       "        text-align: right;\n",
       "    }\n",
       "</style>\n",
       "<table border=\"1\" class=\"dataframe\">\n",
       "  <thead>\n",
       "    <tr style=\"text-align: right;\">\n",
       "      <th></th>\n",
       "      <th>Coefficient</th>\n",
       "    </tr>\n",
       "  </thead>\n",
       "  <tbody>\n",
       "    <tr>\n",
       "      <th>jobnew</th>\n",
       "      <td>0.002474</td>\n",
       "    </tr>\n",
       "    <tr>\n",
       "      <th>maritalnew</th>\n",
       "      <td>0.016133</td>\n",
       "    </tr>\n",
       "    <tr>\n",
       "      <th>educationnew</th>\n",
       "      <td>-0.015199</td>\n",
       "    </tr>\n",
       "    <tr>\n",
       "      <th>age</th>\n",
       "      <td>0.000113</td>\n",
       "    </tr>\n",
       "    <tr>\n",
       "      <th>balance</th>\n",
       "      <td>0.000003</td>\n",
       "    </tr>\n",
       "    <tr>\n",
       "      <th>day</th>\n",
       "      <td>-0.000644</td>\n",
       "    </tr>\n",
       "    <tr>\n",
       "      <th>duration</th>\n",
       "      <td>0.000487</td>\n",
       "    </tr>\n",
       "    <tr>\n",
       "      <th>campaign</th>\n",
       "      <td>-0.004117</td>\n",
       "    </tr>\n",
       "    <tr>\n",
       "      <th>housingnew</th>\n",
       "      <td>-0.075620</td>\n",
       "    </tr>\n",
       "    <tr>\n",
       "      <th>loannew</th>\n",
       "      <td>-0.049262</td>\n",
       "    </tr>\n",
       "    <tr>\n",
       "      <th>contactnew</th>\n",
       "      <td>0.061522</td>\n",
       "    </tr>\n",
       "    <tr>\n",
       "      <th>monthnew</th>\n",
       "      <td>-0.001408</td>\n",
       "    </tr>\n",
       "  </tbody>\n",
       "</table>\n",
       "</div>"
      ],
      "text/plain": [
       "              Coefficient\n",
       "jobnew           0.002474\n",
       "maritalnew       0.016133\n",
       "educationnew    -0.015199\n",
       "age              0.000113\n",
       "balance          0.000003\n",
       "day             -0.000644\n",
       "duration         0.000487\n",
       "campaign        -0.004117\n",
       "housingnew      -0.075620\n",
       "loannew         -0.049262\n",
       "contactnew       0.061522\n",
       "monthnew        -0.001408"
      ]
     },
     "execution_count": 39,
     "metadata": {},
     "output_type": "execute_result"
    }
   ],
   "source": [
    "#extracted coefficient\n",
    "coeff_df = pd.DataFrame(regressor.coef_, X.columns, columns=['Coefficient'])\n",
    "coeff_df"
   ]
  },
  {
   "cell_type": "code",
   "execution_count": 40,
   "id": "955e2770",
   "metadata": {},
   "outputs": [
    {
     "name": "stdout",
     "output_type": "stream",
     "text": [
      "Mean Absolute Error: 0.11235955056179775\n",
      "Mean Squared Error: 0.11235955056179775\n",
      "Root Mean Squared Error: 0.33520076157699547\n"
     ]
    }
   ],
   "source": [
    "#evaluated the regression model\n",
    "from sklearn import metrics\n",
    "import numpy as np\n",
    "print('Mean Absolute Error:', metrics.mean_absolute_error(y_test, y_pred))\n",
    "print('Mean Squared Error:', metrics.mean_squared_error(y_test, y_pred))\n",
    "print('Root Mean Squared Error:', np.sqrt(metrics.mean_squared_error(y_test, y_pred)))"
   ]
  },
  {
   "cell_type": "code",
   "execution_count": null,
   "id": "73750024",
   "metadata": {},
   "outputs": [],
   "source": []
  }
 ],
 "metadata": {
  "kernelspec": {
   "display_name": "Python 3",
   "language": "python",
   "name": "python3"
  },
  "language_info": {
   "codemirror_mode": {
    "name": "ipython",
    "version": 3
   },
   "file_extension": ".py",
   "mimetype": "text/x-python",
   "name": "python",
   "nbconvert_exporter": "python",
   "pygments_lexer": "ipython3",
   "version": "3.8.8"
  }
 },
 "nbformat": 4,
 "nbformat_minor": 5
}
