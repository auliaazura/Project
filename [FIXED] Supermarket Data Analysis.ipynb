{
 "cells": [
  {
   "cell_type": "code",
   "execution_count": 1,
   "id": "af310fdd",
   "metadata": {},
   "outputs": [],
   "source": [
    "#imported module\n",
    "import pandas as pd"
   ]
  },
  {
   "cell_type": "code",
   "execution_count": 2,
   "id": "efc1ff56",
   "metadata": {},
   "outputs": [],
   "source": [
    "#imported csv file\n",
    "supermarket = pd.read_csv('supermarket.csv',sep=',',parse_dates=['Date'], index_col=['Date'])"
   ]
  },
  {
   "cell_type": "code",
   "execution_count": 3,
   "id": "a52f33b8",
   "metadata": {},
   "outputs": [],
   "source": [
    "#changed into dataframe\n",
    "supermarket_new = pd.DataFrame(supermarket.to_records())"
   ]
  },
  {
   "cell_type": "code",
   "execution_count": 4,
   "id": "cad2dd9d",
   "metadata": {},
   "outputs": [],
   "source": [
    "#sorted data based on date\n",
    "new_data_supermarket=supermarket_new.sort_values(by='Date', ascending=True) "
   ]
  },
  {
   "cell_type": "code",
   "execution_count": 7,
   "id": "55579cd2",
   "metadata": {},
   "outputs": [
    {
     "data": {
      "text/html": [
       "<div>\n",
       "<style scoped>\n",
       "    .dataframe tbody tr th:only-of-type {\n",
       "        vertical-align: middle;\n",
       "    }\n",
       "\n",
       "    .dataframe tbody tr th {\n",
       "        vertical-align: top;\n",
       "    }\n",
       "\n",
       "    .dataframe thead th {\n",
       "        text-align: right;\n",
       "    }\n",
       "</style>\n",
       "<table border=\"1\" class=\"dataframe\">\n",
       "  <thead>\n",
       "    <tr style=\"text-align: right;\">\n",
       "      <th></th>\n",
       "      <th>Date</th>\n",
       "      <th>Invoice ID</th>\n",
       "      <th>Branch</th>\n",
       "      <th>City</th>\n",
       "      <th>Customer type</th>\n",
       "      <th>Gender</th>\n",
       "      <th>Product line</th>\n",
       "      <th>Unit price</th>\n",
       "      <th>Quantity</th>\n",
       "      <th>Tax 5%</th>\n",
       "      <th>Total</th>\n",
       "      <th>Time</th>\n",
       "      <th>Payment</th>\n",
       "      <th>cogs</th>\n",
       "      <th>gross margin percentage</th>\n",
       "      <th>gross income</th>\n",
       "      <th>Rating</th>\n",
       "    </tr>\n",
       "  </thead>\n",
       "  <tbody>\n",
       "    <tr>\n",
       "      <th>856</th>\n",
       "      <td>2019-01-01</td>\n",
       "      <td>770-42-8960</td>\n",
       "      <td>B</td>\n",
       "      <td>Mandalay</td>\n",
       "      <td>Normal</td>\n",
       "      <td>Male</td>\n",
       "      <td>Food and beverages</td>\n",
       "      <td>21.12</td>\n",
       "      <td>8</td>\n",
       "      <td>8.448</td>\n",
       "      <td>177.408</td>\n",
       "      <td>19:31</td>\n",
       "      <td>Cash</td>\n",
       "      <td>168.96</td>\n",
       "      <td>4.761905</td>\n",
       "      <td>8.448</td>\n",
       "      <td>6.3</td>\n",
       "    </tr>\n",
       "    <tr>\n",
       "      <th>567</th>\n",
       "      <td>2019-01-01</td>\n",
       "      <td>651-88-7328</td>\n",
       "      <td>A</td>\n",
       "      <td>Yangon</td>\n",
       "      <td>Normal</td>\n",
       "      <td>Female</td>\n",
       "      <td>Fashion accessories</td>\n",
       "      <td>65.74</td>\n",
       "      <td>9</td>\n",
       "      <td>29.583</td>\n",
       "      <td>621.243</td>\n",
       "      <td>13:55</td>\n",
       "      <td>Cash</td>\n",
       "      <td>591.66</td>\n",
       "      <td>4.761905</td>\n",
       "      <td>29.583</td>\n",
       "      <td>7.7</td>\n",
       "    </tr>\n",
       "    <tr>\n",
       "      <th>245</th>\n",
       "      <td>2019-01-01</td>\n",
       "      <td>530-90-9855</td>\n",
       "      <td>A</td>\n",
       "      <td>Yangon</td>\n",
       "      <td>Member</td>\n",
       "      <td>Male</td>\n",
       "      <td>Home and lifestyle</td>\n",
       "      <td>47.59</td>\n",
       "      <td>8</td>\n",
       "      <td>19.036</td>\n",
       "      <td>399.756</td>\n",
       "      <td>14:47</td>\n",
       "      <td>Cash</td>\n",
       "      <td>380.72</td>\n",
       "      <td>4.761905</td>\n",
       "      <td>19.036</td>\n",
       "      <td>5.7</td>\n",
       "    </tr>\n",
       "    <tr>\n",
       "      <th>696</th>\n",
       "      <td>2019-01-01</td>\n",
       "      <td>182-52-7000</td>\n",
       "      <td>A</td>\n",
       "      <td>Yangon</td>\n",
       "      <td>Member</td>\n",
       "      <td>Female</td>\n",
       "      <td>Sports and travel</td>\n",
       "      <td>27.04</td>\n",
       "      <td>4</td>\n",
       "      <td>5.408</td>\n",
       "      <td>113.568</td>\n",
       "      <td>20:26</td>\n",
       "      <td>Ewallet</td>\n",
       "      <td>108.16</td>\n",
       "      <td>4.761905</td>\n",
       "      <td>5.408</td>\n",
       "      <td>6.9</td>\n",
       "    </tr>\n",
       "    <tr>\n",
       "      <th>523</th>\n",
       "      <td>2019-01-01</td>\n",
       "      <td>133-14-7229</td>\n",
       "      <td>C</td>\n",
       "      <td>Naypyitaw</td>\n",
       "      <td>Normal</td>\n",
       "      <td>Male</td>\n",
       "      <td>Health and beauty</td>\n",
       "      <td>62.87</td>\n",
       "      <td>2</td>\n",
       "      <td>6.287</td>\n",
       "      <td>132.027</td>\n",
       "      <td>11:43</td>\n",
       "      <td>Cash</td>\n",
       "      <td>125.74</td>\n",
       "      <td>4.761905</td>\n",
       "      <td>6.287</td>\n",
       "      <td>5.0</td>\n",
       "    </tr>\n",
       "    <tr>\n",
       "      <th>...</th>\n",
       "      <td>...</td>\n",
       "      <td>...</td>\n",
       "      <td>...</td>\n",
       "      <td>...</td>\n",
       "      <td>...</td>\n",
       "      <td>...</td>\n",
       "      <td>...</td>\n",
       "      <td>...</td>\n",
       "      <td>...</td>\n",
       "      <td>...</td>\n",
       "      <td>...</td>\n",
       "      <td>...</td>\n",
       "      <td>...</td>\n",
       "      <td>...</td>\n",
       "      <td>...</td>\n",
       "      <td>...</td>\n",
       "      <td>...</td>\n",
       "    </tr>\n",
       "    <tr>\n",
       "      <th>158</th>\n",
       "      <td>2019-03-30</td>\n",
       "      <td>743-04-1105</td>\n",
       "      <td>B</td>\n",
       "      <td>Mandalay</td>\n",
       "      <td>Member</td>\n",
       "      <td>Male</td>\n",
       "      <td>Health and beauty</td>\n",
       "      <td>97.22</td>\n",
       "      <td>9</td>\n",
       "      <td>43.749</td>\n",
       "      <td>918.729</td>\n",
       "      <td>14:43</td>\n",
       "      <td>Ewallet</td>\n",
       "      <td>874.98</td>\n",
       "      <td>4.761905</td>\n",
       "      <td>43.749</td>\n",
       "      <td>6.0</td>\n",
       "    </tr>\n",
       "    <tr>\n",
       "      <th>881</th>\n",
       "      <td>2019-03-30</td>\n",
       "      <td>115-38-7388</td>\n",
       "      <td>C</td>\n",
       "      <td>Naypyitaw</td>\n",
       "      <td>Member</td>\n",
       "      <td>Female</td>\n",
       "      <td>Fashion accessories</td>\n",
       "      <td>10.18</td>\n",
       "      <td>8</td>\n",
       "      <td>4.072</td>\n",
       "      <td>85.512</td>\n",
       "      <td>12:51</td>\n",
       "      <td>Credit card</td>\n",
       "      <td>81.44</td>\n",
       "      <td>4.761905</td>\n",
       "      <td>4.072</td>\n",
       "      <td>9.5</td>\n",
       "    </tr>\n",
       "    <tr>\n",
       "      <th>963</th>\n",
       "      <td>2019-03-30</td>\n",
       "      <td>364-34-2972</td>\n",
       "      <td>C</td>\n",
       "      <td>Naypyitaw</td>\n",
       "      <td>Member</td>\n",
       "      <td>Male</td>\n",
       "      <td>Electronic accessories</td>\n",
       "      <td>96.82</td>\n",
       "      <td>3</td>\n",
       "      <td>14.523</td>\n",
       "      <td>304.983</td>\n",
       "      <td>20:37</td>\n",
       "      <td>Cash</td>\n",
       "      <td>290.46</td>\n",
       "      <td>4.761905</td>\n",
       "      <td>14.523</td>\n",
       "      <td>6.7</td>\n",
       "    </tr>\n",
       "    <tr>\n",
       "      <th>937</th>\n",
       "      <td>2019-03-30</td>\n",
       "      <td>361-85-2571</td>\n",
       "      <td>A</td>\n",
       "      <td>Yangon</td>\n",
       "      <td>Normal</td>\n",
       "      <td>Female</td>\n",
       "      <td>Sports and travel</td>\n",
       "      <td>89.48</td>\n",
       "      <td>5</td>\n",
       "      <td>22.370</td>\n",
       "      <td>469.770</td>\n",
       "      <td>10:18</td>\n",
       "      <td>Cash</td>\n",
       "      <td>447.40</td>\n",
       "      <td>4.761905</td>\n",
       "      <td>22.370</td>\n",
       "      <td>7.4</td>\n",
       "    </tr>\n",
       "    <tr>\n",
       "      <th>474</th>\n",
       "      <td>2019-03-30</td>\n",
       "      <td>676-39-6028</td>\n",
       "      <td>A</td>\n",
       "      <td>Yangon</td>\n",
       "      <td>Member</td>\n",
       "      <td>Female</td>\n",
       "      <td>Electronic accessories</td>\n",
       "      <td>64.44</td>\n",
       "      <td>5</td>\n",
       "      <td>16.110</td>\n",
       "      <td>338.310</td>\n",
       "      <td>17:04</td>\n",
       "      <td>Cash</td>\n",
       "      <td>322.20</td>\n",
       "      <td>4.761905</td>\n",
       "      <td>16.110</td>\n",
       "      <td>6.6</td>\n",
       "    </tr>\n",
       "  </tbody>\n",
       "</table>\n",
       "<p>1000 rows × 17 columns</p>\n",
       "</div>"
      ],
      "text/plain": [
       "          Date   Invoice ID Branch       City Customer type  Gender  \\\n",
       "856 2019-01-01  770-42-8960      B   Mandalay        Normal    Male   \n",
       "567 2019-01-01  651-88-7328      A     Yangon        Normal  Female   \n",
       "245 2019-01-01  530-90-9855      A     Yangon        Member    Male   \n",
       "696 2019-01-01  182-52-7000      A     Yangon        Member  Female   \n",
       "523 2019-01-01  133-14-7229      C  Naypyitaw        Normal    Male   \n",
       "..         ...          ...    ...        ...           ...     ...   \n",
       "158 2019-03-30  743-04-1105      B   Mandalay        Member    Male   \n",
       "881 2019-03-30  115-38-7388      C  Naypyitaw        Member  Female   \n",
       "963 2019-03-30  364-34-2972      C  Naypyitaw        Member    Male   \n",
       "937 2019-03-30  361-85-2571      A     Yangon        Normal  Female   \n",
       "474 2019-03-30  676-39-6028      A     Yangon        Member  Female   \n",
       "\n",
       "               Product line  Unit price  Quantity  Tax 5%    Total   Time  \\\n",
       "856      Food and beverages       21.12         8   8.448  177.408  19:31   \n",
       "567     Fashion accessories       65.74         9  29.583  621.243  13:55   \n",
       "245      Home and lifestyle       47.59         8  19.036  399.756  14:47   \n",
       "696       Sports and travel       27.04         4   5.408  113.568  20:26   \n",
       "523       Health and beauty       62.87         2   6.287  132.027  11:43   \n",
       "..                      ...         ...       ...     ...      ...    ...   \n",
       "158       Health and beauty       97.22         9  43.749  918.729  14:43   \n",
       "881     Fashion accessories       10.18         8   4.072   85.512  12:51   \n",
       "963  Electronic accessories       96.82         3  14.523  304.983  20:37   \n",
       "937       Sports and travel       89.48         5  22.370  469.770  10:18   \n",
       "474  Electronic accessories       64.44         5  16.110  338.310  17:04   \n",
       "\n",
       "         Payment    cogs  gross margin percentage  gross income  Rating  \n",
       "856         Cash  168.96                 4.761905         8.448     6.3  \n",
       "567         Cash  591.66                 4.761905        29.583     7.7  \n",
       "245         Cash  380.72                 4.761905        19.036     5.7  \n",
       "696      Ewallet  108.16                 4.761905         5.408     6.9  \n",
       "523         Cash  125.74                 4.761905         6.287     5.0  \n",
       "..           ...     ...                      ...           ...     ...  \n",
       "158      Ewallet  874.98                 4.761905        43.749     6.0  \n",
       "881  Credit card   81.44                 4.761905         4.072     9.5  \n",
       "963         Cash  290.46                 4.761905        14.523     6.7  \n",
       "937         Cash  447.40                 4.761905        22.370     7.4  \n",
       "474         Cash  322.20                 4.761905        16.110     6.6  \n",
       "\n",
       "[1000 rows x 17 columns]"
      ]
     },
     "execution_count": 7,
     "metadata": {},
     "output_type": "execute_result"
    }
   ],
   "source": [
    "#cleaned dataset from NaN Value\n",
    "new_data_supermarket.dropna()"
   ]
  },
  {
   "cell_type": "code",
   "execution_count": 8,
   "id": "b97ce6d8",
   "metadata": {},
   "outputs": [
    {
     "data": {
      "text/html": [
       "<div>\n",
       "<style scoped>\n",
       "    .dataframe tbody tr th:only-of-type {\n",
       "        vertical-align: middle;\n",
       "    }\n",
       "\n",
       "    .dataframe tbody tr th {\n",
       "        vertical-align: top;\n",
       "    }\n",
       "\n",
       "    .dataframe thead th {\n",
       "        text-align: right;\n",
       "    }\n",
       "</style>\n",
       "<table border=\"1\" class=\"dataframe\">\n",
       "  <thead>\n",
       "    <tr style=\"text-align: right;\">\n",
       "      <th></th>\n",
       "      <th>Date</th>\n",
       "      <th>Invoice ID</th>\n",
       "      <th>Branch</th>\n",
       "      <th>City</th>\n",
       "      <th>Customer type</th>\n",
       "      <th>Gender</th>\n",
       "      <th>Product line</th>\n",
       "      <th>Unit price</th>\n",
       "      <th>Quantity</th>\n",
       "      <th>Tax 5%</th>\n",
       "      <th>Total</th>\n",
       "      <th>Time</th>\n",
       "      <th>Payment</th>\n",
       "      <th>cogs</th>\n",
       "      <th>gross margin percentage</th>\n",
       "      <th>gross income</th>\n",
       "      <th>Rating</th>\n",
       "    </tr>\n",
       "  </thead>\n",
       "  <tbody>\n",
       "    <tr>\n",
       "      <th>856</th>\n",
       "      <td>2019-01-01</td>\n",
       "      <td>770-42-8960</td>\n",
       "      <td>B</td>\n",
       "      <td>Mandalay</td>\n",
       "      <td>Normal</td>\n",
       "      <td>Male</td>\n",
       "      <td>Food and beverages</td>\n",
       "      <td>21.12</td>\n",
       "      <td>8</td>\n",
       "      <td>8.448</td>\n",
       "      <td>177.408</td>\n",
       "      <td>19:31</td>\n",
       "      <td>Cash</td>\n",
       "      <td>168.96</td>\n",
       "      <td>4.761905</td>\n",
       "      <td>8.448</td>\n",
       "      <td>6.3</td>\n",
       "    </tr>\n",
       "    <tr>\n",
       "      <th>567</th>\n",
       "      <td>2019-01-01</td>\n",
       "      <td>651-88-7328</td>\n",
       "      <td>A</td>\n",
       "      <td>Yangon</td>\n",
       "      <td>Normal</td>\n",
       "      <td>Female</td>\n",
       "      <td>Fashion accessories</td>\n",
       "      <td>65.74</td>\n",
       "      <td>9</td>\n",
       "      <td>29.583</td>\n",
       "      <td>621.243</td>\n",
       "      <td>13:55</td>\n",
       "      <td>Cash</td>\n",
       "      <td>591.66</td>\n",
       "      <td>4.761905</td>\n",
       "      <td>29.583</td>\n",
       "      <td>7.7</td>\n",
       "    </tr>\n",
       "    <tr>\n",
       "      <th>245</th>\n",
       "      <td>2019-01-01</td>\n",
       "      <td>530-90-9855</td>\n",
       "      <td>A</td>\n",
       "      <td>Yangon</td>\n",
       "      <td>Member</td>\n",
       "      <td>Male</td>\n",
       "      <td>Home and lifestyle</td>\n",
       "      <td>47.59</td>\n",
       "      <td>8</td>\n",
       "      <td>19.036</td>\n",
       "      <td>399.756</td>\n",
       "      <td>14:47</td>\n",
       "      <td>Cash</td>\n",
       "      <td>380.72</td>\n",
       "      <td>4.761905</td>\n",
       "      <td>19.036</td>\n",
       "      <td>5.7</td>\n",
       "    </tr>\n",
       "    <tr>\n",
       "      <th>696</th>\n",
       "      <td>2019-01-01</td>\n",
       "      <td>182-52-7000</td>\n",
       "      <td>A</td>\n",
       "      <td>Yangon</td>\n",
       "      <td>Member</td>\n",
       "      <td>Female</td>\n",
       "      <td>Sports and travel</td>\n",
       "      <td>27.04</td>\n",
       "      <td>4</td>\n",
       "      <td>5.408</td>\n",
       "      <td>113.568</td>\n",
       "      <td>20:26</td>\n",
       "      <td>Ewallet</td>\n",
       "      <td>108.16</td>\n",
       "      <td>4.761905</td>\n",
       "      <td>5.408</td>\n",
       "      <td>6.9</td>\n",
       "    </tr>\n",
       "    <tr>\n",
       "      <th>523</th>\n",
       "      <td>2019-01-01</td>\n",
       "      <td>133-14-7229</td>\n",
       "      <td>C</td>\n",
       "      <td>Naypyitaw</td>\n",
       "      <td>Normal</td>\n",
       "      <td>Male</td>\n",
       "      <td>Health and beauty</td>\n",
       "      <td>62.87</td>\n",
       "      <td>2</td>\n",
       "      <td>6.287</td>\n",
       "      <td>132.027</td>\n",
       "      <td>11:43</td>\n",
       "      <td>Cash</td>\n",
       "      <td>125.74</td>\n",
       "      <td>4.761905</td>\n",
       "      <td>6.287</td>\n",
       "      <td>5.0</td>\n",
       "    </tr>\n",
       "  </tbody>\n",
       "</table>\n",
       "</div>"
      ],
      "text/plain": [
       "          Date   Invoice ID Branch       City Customer type  Gender  \\\n",
       "856 2019-01-01  770-42-8960      B   Mandalay        Normal    Male   \n",
       "567 2019-01-01  651-88-7328      A     Yangon        Normal  Female   \n",
       "245 2019-01-01  530-90-9855      A     Yangon        Member    Male   \n",
       "696 2019-01-01  182-52-7000      A     Yangon        Member  Female   \n",
       "523 2019-01-01  133-14-7229      C  Naypyitaw        Normal    Male   \n",
       "\n",
       "            Product line  Unit price  Quantity  Tax 5%    Total   Time  \\\n",
       "856   Food and beverages       21.12         8   8.448  177.408  19:31   \n",
       "567  Fashion accessories       65.74         9  29.583  621.243  13:55   \n",
       "245   Home and lifestyle       47.59         8  19.036  399.756  14:47   \n",
       "696    Sports and travel       27.04         4   5.408  113.568  20:26   \n",
       "523    Health and beauty       62.87         2   6.287  132.027  11:43   \n",
       "\n",
       "     Payment    cogs  gross margin percentage  gross income  Rating  \n",
       "856     Cash  168.96                 4.761905         8.448     6.3  \n",
       "567     Cash  591.66                 4.761905        29.583     7.7  \n",
       "245     Cash  380.72                 4.761905        19.036     5.7  \n",
       "696  Ewallet  108.16                 4.761905         5.408     6.9  \n",
       "523     Cash  125.74                 4.761905         6.287     5.0  "
      ]
     },
     "execution_count": 8,
     "metadata": {},
     "output_type": "execute_result"
    }
   ],
   "source": [
    "new_data_supermarket.head()"
   ]
  },
  {
   "cell_type": "code",
   "execution_count": 9,
   "id": "3df7b105",
   "metadata": {},
   "outputs": [],
   "source": [
    "#made new data frame consisted of date and product sold\n",
    "date_quantity=new_data_supermarket[['Date','Quantity']]"
   ]
  },
  {
   "cell_type": "code",
   "execution_count": 19,
   "id": "d9b6ee45",
   "metadata": {},
   "outputs": [],
   "source": [
    "#made new data frame consisted of date and revenue\n",
    "date_revenue=new_data_supermarket[['Date','Total']]"
   ]
  },
  {
   "cell_type": "code",
   "execution_count": 21,
   "id": "c3992d52",
   "metadata": {},
   "outputs": [],
   "source": [
    "#defined variable\n",
    "date =date_quantity[date_quantity.columns.values[0]][0:]\n",
    "quantity =date_quantity[date_quantity.columns.values[1]][0:]\n",
    "revenue =date_revenue[date_revenue.columns.values[1]][0:]"
   ]
  },
  {
   "cell_type": "markdown",
   "id": "b8d4ff68",
   "metadata": {},
   "source": [
    "# <B>PRODUCT SOLD BASED ON DATE</B>"
   ]
  },
  {
   "cell_type": "code",
   "execution_count": 24,
   "id": "4f5dae69",
   "metadata": {},
   "outputs": [
    {
     "data": {
      "image/png": "[encoded data removed]",
      "text/plain": [
       "<Figure size 1440x360 with 1 Axes>"
      ]
     },
     "metadata": {
      "needs_background": "light"
     },
     "output_type": "display_data"
    }
   ],
   "source": [
    "#imported module\n",
    "import matplotlib.pyplot as plt\n",
    "import numpy as np\n",
    "#plotting \n",
    "fig=plt.figure(figsize=(20,5))\n",
    "plt.bar(date,quantity,color='red')\n",
    "plt.yticks(np.arange(0,11,1))\n",
    "plt.ylabel('Count',size=14)\n",
    "plt.xlabel('Date',size=14)\n",
    "#plt.tight_layout()\n",
    "plt.title('Product Sold based on date',size=16)\n",
    "plt.show()"
   ]
  },
  {
   "cell_type": "markdown",
   "id": "ba6900fa",
   "metadata": {},
   "source": [
    "# <B>REVENUE BASED ON DATE</B>"
   ]
  },
  {
   "cell_type": "code",
   "execution_count": 25,
   "id": "701f1e79",
   "metadata": {},
   "outputs": [
    {
     "data": {
      "image/png": "[encoded data removed]",
      "text/plain": [
       "<Figure size 1440x360 with 1 Axes>"
      ]
     },
     "metadata": {
      "needs_background": "light"
     },
     "output_type": "display_data"
    }
   ],
   "source": [
    "#imported module\n",
    "import matplotlib.pyplot as plt\n",
    "import numpy as np\n",
    "#plotting \n",
    "fig=plt.figure(figsize=(20,5))\n",
    "plt.bar(date,revenue,color='red')\n",
    "plt.ylabel('Money Unit',size=14)\n",
    "plt.xlabel('Date',size=14)\n",
    "#plt.tight_layout()\n",
    "plt.title('Revenue based on date',size=16)\n",
    "plt.show()"
   ]
  },
  {
   "cell_type": "code",
   "execution_count": 26,
   "id": "502b0a52",
   "metadata": {},
   "outputs": [
    {
     "data": {
      "text/plain": [
       "count    1000.000000\n",
       "mean      322.966749\n",
       "std       245.885335\n",
       "min        10.678500\n",
       "25%       124.422375\n",
       "50%       253.848000\n",
       "75%       471.350250\n",
       "max      1042.650000\n",
       "Name: Total, dtype: float64"
      ]
     },
     "execution_count": 26,
     "metadata": {},
     "output_type": "execute_result"
    }
   ],
   "source": [
    "#extract revenue statistical information\n",
    "revenue.describe()"
   ]
  },
  {
   "cell_type": "code",
   "execution_count": 27,
   "id": "486554cd",
   "metadata": {},
   "outputs": [
    {
     "data": {
      "text/plain": [
       "(array([432], dtype=int64),)"
      ]
     },
     "execution_count": 27,
     "metadata": {},
     "output_type": "execute_result"
    }
   ],
   "source": [
    "#looked for the minimum revenue\n",
    "import numpy as np\n",
    "np.where(revenue==10.6785)"
   ]
  },
  {
   "cell_type": "code",
   "execution_count": 28,
   "id": "e2fddd7f",
   "metadata": {},
   "outputs": [
    {
     "data": {
      "text/plain": [
       "Timestamp('2019-01-13 00:00:00')"
      ]
     },
     "execution_count": 28,
     "metadata": {},
     "output_type": "execute_result"
    }
   ],
   "source": [
    "#looked for the minimum revenue\n",
    "minrevenue_when= date_revenue[date_revenue.columns.values[0]][432]\n",
    "minrevenue_when"
   ]
  },
  {
   "cell_type": "code",
   "execution_count": 29,
   "id": "21a4555f",
   "metadata": {},
   "outputs": [
    {
     "data": {
      "text/plain": [
       "(array([516], dtype=int64),)"
      ]
     },
     "execution_count": 29,
     "metadata": {},
     "output_type": "execute_result"
    }
   ],
   "source": [
    "#looked for the maximum revenue\n",
    "import numpy as np\n",
    "np.where(revenue==1042.65)"
   ]
  },
  {
   "cell_type": "code",
   "execution_count": 30,
   "id": "0fe3a548",
   "metadata": {},
   "outputs": [
    {
     "data": {
      "text/plain": [
       "Timestamp('2019-03-29 00:00:00')"
      ]
     },
     "execution_count": 30,
     "metadata": {},
     "output_type": "execute_result"
    }
   ],
   "source": [
    "#looked for the maximum revenue\n",
    "maxrevenue_when= date_revenue[date_revenue.columns.values[0]][516]\n",
    "maxrevenue_when"
   ]
  },
  {
   "cell_type": "markdown",
   "id": "1b372ab7",
   "metadata": {},
   "source": [
    "# <b>ORDER QUANTITY BASED ON PRODUCT LINE</b>"
   ]
  },
  {
   "cell_type": "code",
   "execution_count": 16,
   "id": "306deeb2",
   "metadata": {},
   "outputs": [],
   "source": [
    "#looked for quantity based on product line\n",
    "product_line=new_data_supermarket[['Quantity','Product line']]"
   ]
  },
  {
   "cell_type": "code",
   "execution_count": 17,
   "id": "88722030",
   "metadata": {},
   "outputs": [],
   "source": [
    "#counted for each category\n",
    "pl=product_line.groupby('Product line').count()"
   ]
  },
  {
   "cell_type": "code",
   "execution_count": 18,
   "id": "457aa253",
   "metadata": {},
   "outputs": [],
   "source": [
    "#changed to dataframe\n",
    "pl_df = pd.DataFrame(pl.to_records())"
   ]
  },
  {
   "cell_type": "code",
   "execution_count": 19,
   "id": "4fdcf6bc",
   "metadata": {},
   "outputs": [],
   "source": [
    "#made variable\n",
    "product_line_var =pl_df[pl_df.columns.values[0]][0:]\n",
    "order_quantity_var =pl_df[pl_df.columns.values[1]][0:]"
   ]
  },
  {
   "cell_type": "code",
   "execution_count": 20,
   "id": "b9cc7a2b",
   "metadata": {
    "scrolled": true
   },
   "outputs": [
    {
     "data": {
      "image/png": "[encoded data removed]",
      "text/plain": [
       "<Figure size 1080x360 with 1 Axes>"
      ]
     },
     "metadata": {
      "needs_background": "light"
     },
     "output_type": "display_data"
    }
   ],
   "source": [
    "#plotting \n",
    "fig=plt.figure(figsize=(15,5))\n",
    "plt.bar(product_line_var,order_quantity_var,color='red')\n",
    "plt.ylabel('Order Quantity',size =14)\n",
    "plt.xlabel('Product Line',size =14)\n",
    "#plt.tight_layout()\n",
    "plt.title('Order Quantity based on Product Line',size =16)\n",
    "plt.show()"
   ]
  },
  {
   "cell_type": "markdown",
   "id": "1cd4d0e9",
   "metadata": {},
   "source": [
    "# <b>THE NUMBER OF TRANSACTION VS PAYMENT</B>"
   ]
  },
  {
   "cell_type": "code",
   "execution_count": 21,
   "id": "5bced4f2",
   "metadata": {},
   "outputs": [],
   "source": [
    "#defined variable for payment\n",
    "payment=new_data_supermarket[['Invoice ID','Payment']]"
   ]
  },
  {
   "cell_type": "code",
   "execution_count": 22,
   "id": "80555ef4",
   "metadata": {},
   "outputs": [],
   "source": [
    "#counted payment\n",
    "payment_count=payment.groupby('Payment').count()"
   ]
  },
  {
   "cell_type": "code",
   "execution_count": 23,
   "id": "e3b9c7fa",
   "metadata": {},
   "outputs": [],
   "source": [
    "#changed to dataframe\n",
    "payment_df = pd.DataFrame(payment_count.to_records())"
   ]
  },
  {
   "cell_type": "code",
   "execution_count": 24,
   "id": "5b65f874",
   "metadata": {},
   "outputs": [],
   "source": [
    "#defined variable\n",
    "payment_var =payment_df[payment_df.columns.values[0]][0:]\n",
    "id_var =payment_df[payment_df.columns.values[1]][0:]"
   ]
  },
  {
   "cell_type": "code",
   "execution_count": 25,
   "id": "065a78f6",
   "metadata": {
    "scrolled": true
   },
   "outputs": [
    {
     "data": {
      "image/png": "[encoded data removed]",
      "text/plain": [
       "<Figure size 504x360 with 1 Axes>"
      ]
     },
     "metadata": {
      "needs_background": "light"
     },
     "output_type": "display_data"
    }
   ],
   "source": [
    "#plotting \n",
    "fig=plt.figure(figsize=(7,5))\n",
    "plt.bar(payment_var,id_var,color='red')\n",
    "plt.ylabel('Count',size=14)\n",
    "plt.xlabel('Payment',size=14)\n",
    "#plt.tight_layout()\n",
    "plt.title('The number of transaction vs payment',size =16)\n",
    "plt.show()"
   ]
  },
  {
   "cell_type": "markdown",
   "id": "02f4bdff",
   "metadata": {},
   "source": [
    "# <B>CUSTOMER SATISFACTION</B>"
   ]
  },
  {
   "cell_type": "code",
   "execution_count": 26,
   "id": "f872faad",
   "metadata": {},
   "outputs": [],
   "source": [
    "#defined variable\n",
    "rating=new_data_supermarket[['Invoice ID','Rating']]"
   ]
  },
  {
   "cell_type": "code",
   "execution_count": 27,
   "id": "0b9a0de9",
   "metadata": {},
   "outputs": [],
   "source": [
    "#counted rating based on transaction\n",
    "rating_count=rating.groupby('Rating').count()"
   ]
  },
  {
   "cell_type": "code",
   "execution_count": 28,
   "id": "5317806e",
   "metadata": {},
   "outputs": [],
   "source": [
    "#changed to dataframe\n",
    "rating_df = pd.DataFrame(rating_count.to_records())"
   ]
  },
  {
   "cell_type": "code",
   "execution_count": 29,
   "id": "ae5464e8",
   "metadata": {},
   "outputs": [],
   "source": [
    "#defined variable\n",
    "rating_var =rating_df[rating_df.columns.values[0]][0:]\n",
    "id_var_rating =rating_df[rating_df.columns.values[1]][0:]"
   ]
  },
  {
   "cell_type": "code",
   "execution_count": 30,
   "id": "aed306c7",
   "metadata": {},
   "outputs": [
    {
     "data": {
      "image/png": "[encoded data removed]",
      "text/plain": [
       "<Figure size 720x360 with 1 Axes>"
      ]
     },
     "metadata": {
      "needs_background": "light"
     },
     "output_type": "display_data"
    }
   ],
   "source": [
    "#plotting \n",
    "fig=plt.figure(figsize=(10,5))\n",
    "plt.plot(rating_var,id_var_rating,color='red')\n",
    "plt.ylabel('Count',size=14)\n",
    "plt.xlabel('Rating',size=14)\n",
    "plt.title('Rating Spread',size=16)\n",
    "plt.show()"
   ]
  },
  {
   "cell_type": "code",
   "execution_count": 31,
   "id": "89aad4fe",
   "metadata": {},
   "outputs": [
    {
     "data": {
      "text/plain": [
       "count    61.000000\n",
       "mean     16.393443\n",
       "std       3.725044\n",
       "min       5.000000\n",
       "25%      14.000000\n",
       "50%      16.000000\n",
       "75%      18.000000\n",
       "max      26.000000\n",
       "Name: Invoice ID, dtype: float64"
      ]
     },
     "execution_count": 31,
     "metadata": {},
     "output_type": "execute_result"
    }
   ],
   "source": [
    "#variable rating statistical information\n",
    "id_var_rating.describe()"
   ]
  },
  {
   "cell_type": "code",
   "execution_count": 32,
   "id": "180ae5a7",
   "metadata": {},
   "outputs": [
    {
     "data": {
      "text/plain": [
       "(array([60], dtype=int64),)"
      ]
     },
     "execution_count": 32,
     "metadata": {},
     "output_type": "execute_result"
    }
   ],
   "source": [
    "#looked for the least rate given by customer\n",
    "import numpy as np\n",
    "np.where(id_var_rating==5)"
   ]
  },
  {
   "cell_type": "code",
   "execution_count": 33,
   "id": "f040d9d1",
   "metadata": {},
   "outputs": [
    {
     "data": {
      "text/plain": [
       "10.0"
      ]
     },
     "execution_count": 33,
     "metadata": {},
     "output_type": "execute_result"
    }
   ],
   "source": [
    "#looked for the least rate given by customer\n",
    "least_rating= rating_df[rating_df.columns.values[0]][60]\n",
    "least_rating"
   ]
  },
  {
   "cell_type": "code",
   "execution_count": 34,
   "id": "82c73cba",
   "metadata": {},
   "outputs": [
    {
     "data": {
      "text/plain": [
       "(array([20], dtype=int64),)"
      ]
     },
     "execution_count": 34,
     "metadata": {},
     "output_type": "execute_result"
    }
   ],
   "source": [
    "#looked for the most rate given by customer\n",
    "import numpy as np\n",
    "np.where(id_var_rating==26)"
   ]
  },
  {
   "cell_type": "code",
   "execution_count": 35,
   "id": "549954b7",
   "metadata": {},
   "outputs": [
    {
     "data": {
      "text/plain": [
       "6.0"
      ]
     },
     "execution_count": 35,
     "metadata": {},
     "output_type": "execute_result"
    }
   ],
   "source": [
    "#looked for the least rate given by customer\n",
    "most_rating= rating_df[rating_df.columns.values[0]][20]\n",
    "most_rating"
   ]
  },
  {
   "cell_type": "markdown",
   "id": "569569bf",
   "metadata": {},
   "source": [
    "<B>Based on the data, mostly the customer gave the rate of average 6</b>"
   ]
  },
  {
   "cell_type": "markdown",
   "id": "626e3b85",
   "metadata": {},
   "source": [
    "# <b>CONFUSION MATRIX</B>"
   ]
  },
  {
   "cell_type": "code",
   "execution_count": 36,
   "id": "fb47d353",
   "metadata": {},
   "outputs": [],
   "source": [
    "#defined variable\n",
    "Branch=new_data_supermarket[new_data_supermarket.columns.values[2]][0:]\n",
    "City=new_data_supermarket[new_data_supermarket.columns.values[3]][0:]"
   ]
  },
  {
   "cell_type": "code",
   "execution_count": 37,
   "id": "a7055cce",
   "metadata": {},
   "outputs": [],
   "source": [
    "#defined variable\n",
    "branch_city = pd.crosstab(new_data_supermarket['Branch'], new_data_supermarket['City'])"
   ]
  },
  {
   "cell_type": "code",
   "execution_count": 38,
   "id": "c3c1f937",
   "metadata": {},
   "outputs": [],
   "source": [
    "#defined variable\n",
    "type_gender = pd.crosstab(new_data_supermarket['Customer type'], new_data_supermarket['Gender'])"
   ]
  },
  {
   "cell_type": "markdown",
   "id": "db870a3f",
   "metadata": {},
   "source": [
    "# <B>CONFUSION MATRIX BRANCH VS CITY</B>"
   ]
  },
  {
   "cell_type": "code",
   "execution_count": 39,
   "id": "35a01d3f",
   "metadata": {},
   "outputs": [
    {
     "name": "stderr",
     "output_type": "stream",
     "text": [
      "<ipython-input-39-a77c506f6506>:5: MatplotlibDeprecationWarning: Adding an axes using the same arguments as a previous axes currently reuses the earlier instance.  In a future version, a new instance will always be created and returned.  Meanwhile, this warning can be suppressed, and the future behavior ensured, by passing a unique label to each axes instance.\n",
      "  ax = fig.add_subplot(111)\n"
     ]
    },
    {
     "data": {
      "image/png": "[encoded data removed]",
      "text/plain": [
       "<Figure size 432x288 with 1 Axes>"
      ]
     },
     "metadata": {
      "needs_background": "light"
     },
     "output_type": "display_data"
    }
   ],
   "source": [
    "#imported module\n",
    "import seaborn as sn\n",
    "#plot heatmap\n",
    "plt.clf()\n",
    "ax = fig.add_subplot(111)\n",
    "ax.set_aspect(1)\n",
    "res1 = sn.heatmap(branch_city.T, annot=True, fmt='.2f', cmap=\"winter\",cbar=False)\n",
    "plt.title('Confusion Matrix Branch vs City',weight='bold')\n",
    "plt.show()"
   ]
  },
  {
   "cell_type": "markdown",
   "id": "f644e298",
   "metadata": {},
   "source": [
    "# <B>CONFUSION MATRIX CUSTOMER TYPE VS GENDER</B>"
   ]
  },
  {
   "cell_type": "code",
   "execution_count": 40,
   "id": "8ed18bef",
   "metadata": {},
   "outputs": [
    {
     "name": "stderr",
     "output_type": "stream",
     "text": [
      "<ipython-input-40-2baa2009c939>:3: MatplotlibDeprecationWarning: Adding an axes using the same arguments as a previous axes currently reuses the earlier instance.  In a future version, a new instance will always be created and returned.  Meanwhile, this warning can be suppressed, and the future behavior ensured, by passing a unique label to each axes instance.\n",
      "  ax = fig.add_subplot(111)\n"
     ]
    },
    {
     "data": {
      "image/png": "[encoded data removed]",
      "text/plain": [
       "<Figure size 432x288 with 1 Axes>"
      ]
     },
     "metadata": {
      "needs_background": "light"
     },
     "output_type": "display_data"
    }
   ],
   "source": [
    "#plot heatmap\n",
    "plt.clf()\n",
    "ax = fig.add_subplot(111)\n",
    "ax.set_aspect(1)\n",
    "res = sn.heatmap(type_gender.T, annot=True, fmt='.2f', cmap=\"summer\",cbar=False)\n",
    "plt.title('Confusion matrix Customer Type vs Gender',weight='bold')\n",
    "plt.show()"
   ]
  },
  {
   "cell_type": "markdown",
   "id": "88581fe4",
   "metadata": {},
   "source": [
    "# <B>HEATMAP HOUR VS DAY VS PRODUCT SOLD</B>"
   ]
  },
  {
   "cell_type": "code",
   "execution_count": 64,
   "id": "b5f835f4",
   "metadata": {},
   "outputs": [],
   "source": [
    "#made new column\n",
    "new_data_supermarket['Hour'] = pd.to_datetime(new_data_supermarket['Time'])\n",
    "new_data_supermarket['Day'] = pd.to_datetime(new_data_supermarket['Date'])"
   ]
  },
  {
   "cell_type": "code",
   "execution_count": 65,
   "id": "b4909a77",
   "metadata": {},
   "outputs": [],
   "source": [
    "#made new column\n",
    "new_data_supermarket['Hour Only'] = new_data_supermarket['Hour'].dt.hour\n",
    "new_data_supermarket['Name of Day'] = new_data_supermarket['Day'].dt.day_name()"
   ]
  },
  {
   "cell_type": "code",
   "execution_count": 66,
   "id": "9c16455e",
   "metadata": {},
   "outputs": [],
   "source": [
    "#made new data frame \n",
    "time_sales=new_data_supermarket[['Name of Day','Hour Only','Quantity']]"
   ]
  },
  {
   "cell_type": "code",
   "execution_count": 67,
   "id": "6325327a",
   "metadata": {},
   "outputs": [],
   "source": [
    "# pandas pivot\n",
    "heatmap_time_sales = pd.pivot_table(time_sales, values='Quantity', \n",
    "                     index=['Name of Day'], \n",
    "                     columns='Hour Only')"
   ]
  },
  {
   "cell_type": "code",
   "execution_count": 68,
   "id": "801f6099",
   "metadata": {},
   "outputs": [
    {
     "data": {
      "text/plain": [
       "Text(0.5, 1.0, 'Heatmap Hour vs Day vs Product Sold')"
      ]
     },
     "execution_count": 68,
     "metadata": {},
     "output_type": "execute_result"
    },
    {
     "data": {
      "image/png": "[encoded data removed]",
      "text/plain": [
       "<Figure size 432x288 with 2 Axes>"
      ]
     },
     "metadata": {
      "needs_background": "light"
     },
     "output_type": "display_data"
    }
   ],
   "source": [
    "#import module\n",
    "import seaborn as sns\n",
    "sns.heatmap(heatmap_time_sales, cmap=\"YlGnBu\")\n",
    "plt.title('Heatmap Hour vs Day vs Product Sold',weight='bold')"
   ]
  },
  {
   "cell_type": "code",
   "execution_count": null,
   "id": "6cc3f2b7",
   "metadata": {},
   "outputs": [],
   "source": []
  }
 ],
 "metadata": {
  "kernelspec": {
   "display_name": "Python 3",
   "language": "python",
   "name": "python3"
  },
  "language_info": {
   "codemirror_mode": {
    "name": "ipython",
    "version": 3
   },
   "file_extension": ".py",
   "mimetype": "text/x-python",
   "name": "python",
   "nbconvert_exporter": "python",
   "pygments_lexer": "ipython3",
   "version": "3.8.8"
  }
 },
 "nbformat": 4,
 "nbformat_minor": 5
}
