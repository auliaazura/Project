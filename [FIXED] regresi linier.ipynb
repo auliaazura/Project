{
 "cells": [
  {
   "cell_type": "code",
   "execution_count": 1,
   "id": "0fad65db",
   "metadata": {},
   "outputs": [],
   "source": [
    "#imported module\n",
    "import pandas as pd"
   ]
  },
  {
   "cell_type": "code",
   "execution_count": 2,
   "id": "30fd7aba",
   "metadata": {},
   "outputs": [],
   "source": [
    "#imported csv file\n",
    "real_estate = pd.read_csv('realestate.csv',sep=',')"
   ]
  },
  {
   "cell_type": "code",
   "execution_count": 3,
   "id": "e28ad252",
   "metadata": {},
   "outputs": [
    {
     "data": {
      "text/html": [
       "<div>\n",
       "<style scoped>\n",
       "    .dataframe tbody tr th:only-of-type {\n",
       "        vertical-align: middle;\n",
       "    }\n",
       "\n",
       "    .dataframe tbody tr th {\n",
       "        vertical-align: top;\n",
       "    }\n",
       "\n",
       "    .dataframe thead th {\n",
       "        text-align: right;\n",
       "    }\n",
       "</style>\n",
       "<table border=\"1\" class=\"dataframe\">\n",
       "  <thead>\n",
       "    <tr style=\"text-align: right;\">\n",
       "      <th></th>\n",
       "      <th>No</th>\n",
       "      <th>transaction date</th>\n",
       "      <th>house age</th>\n",
       "      <th>distance to the nearest MRT station</th>\n",
       "      <th>number of convenience stores</th>\n",
       "      <th>latitude</th>\n",
       "      <th>longitude</th>\n",
       "      <th>house price of unit area</th>\n",
       "    </tr>\n",
       "  </thead>\n",
       "  <tbody>\n",
       "    <tr>\n",
       "      <th>0</th>\n",
       "      <td>1</td>\n",
       "      <td>2012.917</td>\n",
       "      <td>32.0</td>\n",
       "      <td>84.87882</td>\n",
       "      <td>10</td>\n",
       "      <td>24.98298</td>\n",
       "      <td>121.54024</td>\n",
       "      <td>37.9</td>\n",
       "    </tr>\n",
       "    <tr>\n",
       "      <th>1</th>\n",
       "      <td>2</td>\n",
       "      <td>2012.917</td>\n",
       "      <td>19.5</td>\n",
       "      <td>306.59470</td>\n",
       "      <td>9</td>\n",
       "      <td>24.98034</td>\n",
       "      <td>121.53951</td>\n",
       "      <td>42.2</td>\n",
       "    </tr>\n",
       "    <tr>\n",
       "      <th>2</th>\n",
       "      <td>3</td>\n",
       "      <td>2013.583</td>\n",
       "      <td>13.3</td>\n",
       "      <td>561.98450</td>\n",
       "      <td>5</td>\n",
       "      <td>24.98746</td>\n",
       "      <td>121.54391</td>\n",
       "      <td>47.3</td>\n",
       "    </tr>\n",
       "    <tr>\n",
       "      <th>3</th>\n",
       "      <td>4</td>\n",
       "      <td>2013.500</td>\n",
       "      <td>13.3</td>\n",
       "      <td>561.98450</td>\n",
       "      <td>5</td>\n",
       "      <td>24.98746</td>\n",
       "      <td>121.54391</td>\n",
       "      <td>54.8</td>\n",
       "    </tr>\n",
       "    <tr>\n",
       "      <th>4</th>\n",
       "      <td>5</td>\n",
       "      <td>2012.833</td>\n",
       "      <td>5.0</td>\n",
       "      <td>390.56840</td>\n",
       "      <td>5</td>\n",
       "      <td>24.97937</td>\n",
       "      <td>121.54245</td>\n",
       "      <td>43.1</td>\n",
       "    </tr>\n",
       "    <tr>\n",
       "      <th>...</th>\n",
       "      <td>...</td>\n",
       "      <td>...</td>\n",
       "      <td>...</td>\n",
       "      <td>...</td>\n",
       "      <td>...</td>\n",
       "      <td>...</td>\n",
       "      <td>...</td>\n",
       "      <td>...</td>\n",
       "    </tr>\n",
       "    <tr>\n",
       "      <th>409</th>\n",
       "      <td>410</td>\n",
       "      <td>2013.000</td>\n",
       "      <td>13.7</td>\n",
       "      <td>4082.01500</td>\n",
       "      <td>0</td>\n",
       "      <td>24.94155</td>\n",
       "      <td>121.50381</td>\n",
       "      <td>15.4</td>\n",
       "    </tr>\n",
       "    <tr>\n",
       "      <th>410</th>\n",
       "      <td>411</td>\n",
       "      <td>2012.667</td>\n",
       "      <td>5.6</td>\n",
       "      <td>90.45606</td>\n",
       "      <td>9</td>\n",
       "      <td>24.97433</td>\n",
       "      <td>121.54310</td>\n",
       "      <td>50.0</td>\n",
       "    </tr>\n",
       "    <tr>\n",
       "      <th>411</th>\n",
       "      <td>412</td>\n",
       "      <td>2013.250</td>\n",
       "      <td>18.8</td>\n",
       "      <td>390.96960</td>\n",
       "      <td>7</td>\n",
       "      <td>24.97923</td>\n",
       "      <td>121.53986</td>\n",
       "      <td>40.6</td>\n",
       "    </tr>\n",
       "    <tr>\n",
       "      <th>412</th>\n",
       "      <td>413</td>\n",
       "      <td>2013.000</td>\n",
       "      <td>8.1</td>\n",
       "      <td>104.81010</td>\n",
       "      <td>5</td>\n",
       "      <td>24.96674</td>\n",
       "      <td>121.54067</td>\n",
       "      <td>52.5</td>\n",
       "    </tr>\n",
       "    <tr>\n",
       "      <th>413</th>\n",
       "      <td>414</td>\n",
       "      <td>2013.500</td>\n",
       "      <td>6.5</td>\n",
       "      <td>90.45606</td>\n",
       "      <td>9</td>\n",
       "      <td>24.97433</td>\n",
       "      <td>121.54310</td>\n",
       "      <td>63.9</td>\n",
       "    </tr>\n",
       "  </tbody>\n",
       "</table>\n",
       "<p>414 rows × 8 columns</p>\n",
       "</div>"
      ],
      "text/plain": [
       "      No  transaction date  house age  distance to the nearest MRT station  \\\n",
       "0      1          2012.917       32.0                             84.87882   \n",
       "1      2          2012.917       19.5                            306.59470   \n",
       "2      3          2013.583       13.3                            561.98450   \n",
       "3      4          2013.500       13.3                            561.98450   \n",
       "4      5          2012.833        5.0                            390.56840   \n",
       "..   ...               ...        ...                                  ...   \n",
       "409  410          2013.000       13.7                           4082.01500   \n",
       "410  411          2012.667        5.6                             90.45606   \n",
       "411  412          2013.250       18.8                            390.96960   \n",
       "412  413          2013.000        8.1                            104.81010   \n",
       "413  414          2013.500        6.5                             90.45606   \n",
       "\n",
       "     number of convenience stores  latitude  longitude  \\\n",
       "0                              10  24.98298  121.54024   \n",
       "1                               9  24.98034  121.53951   \n",
       "2                               5  24.98746  121.54391   \n",
       "3                               5  24.98746  121.54391   \n",
       "4                               5  24.97937  121.54245   \n",
       "..                            ...       ...        ...   \n",
       "409                             0  24.94155  121.50381   \n",
       "410                             9  24.97433  121.54310   \n",
       "411                             7  24.97923  121.53986   \n",
       "412                             5  24.96674  121.54067   \n",
       "413                             9  24.97433  121.54310   \n",
       "\n",
       "     house price of unit area  \n",
       "0                        37.9  \n",
       "1                        42.2  \n",
       "2                        47.3  \n",
       "3                        54.8  \n",
       "4                        43.1  \n",
       "..                        ...  \n",
       "409                      15.4  \n",
       "410                      50.0  \n",
       "411                      40.6  \n",
       "412                      52.5  \n",
       "413                      63.9  \n",
       "\n",
       "[414 rows x 8 columns]"
      ]
     },
     "execution_count": 3,
     "metadata": {},
     "output_type": "execute_result"
    }
   ],
   "source": [
    "#cleaned dataset from NaN Value\n",
    "real_estate.dropna()"
   ]
  },
  {
   "cell_type": "code",
   "execution_count": 4,
   "id": "e2baf9a2",
   "metadata": {},
   "outputs": [],
   "source": [
    "#defiend variable\n",
    "x1=real_estate[real_estate.columns.values[2]][0:]\n",
    "x2=real_estate[real_estate.columns.values[3]][0:]\n",
    "x3=real_estate[real_estate.columns.values[4]][0:]\n",
    "x4=real_estate[real_estate.columns.values[5]][0:]\n",
    "x5=real_estate[real_estate.columns.values[6]][0:]"
   ]
  },
  {
   "cell_type": "code",
   "execution_count": 5,
   "id": "c3acc2e2",
   "metadata": {
    "scrolled": true
   },
   "outputs": [
    {
     "data": {
      "image/png": "[encoded data removed]",
      "text/plain": [
       "<Figure size 720x360 with 5 Axes>"
      ]
     },
     "metadata": {
      "needs_background": "light"
     },
     "output_type": "display_data"
    }
   ],
   "source": [
    "#imported module\n",
    "import matplotlib\n",
    "import matplotlib.pyplot as plt\n",
    "import seaborn as sns\n",
    "\n",
    "#scatter plot with subplot for each variable\n",
    "\n",
    "fig=plt.figure(figsize=(10,5))\n",
    "#plot 1:\n",
    "y1 = real_estate[real_estate.columns.values[7]][0:414]\n",
    "x1 = real_estate[real_estate.columns.values[2]][0:414]\n",
    "plt.subplot(2, 3, 1)\n",
    "plt.scatter(x1,y1)\n",
    "plt.title(\"House price vs house age\",fontweight='bold',fontsize=10)\n",
    "plt.ylabel('house price',fontsize=13)\n",
    "\n",
    "#plot 2:\n",
    "y1 = real_estate[real_estate.columns.values[7]][0:414]\n",
    "x2 = real_estate[real_estate.columns.values[3]][0:414]\n",
    "plt.subplot(2, 3, 2)\n",
    "plt.scatter(x2,y1)\n",
    "plt.title(\"House price vs distance to MRT\",fontweight='bold',fontsize=10)\n",
    "plt.ylabel('house price',fontsize=13)\n",
    "\n",
    "\n",
    "#plot 3:\n",
    "y1 = real_estate[real_estate.columns.values[7]][0:414]\n",
    "x3 = real_estate[real_estate.columns.values[4]][0:414]\n",
    "plt.subplot(2, 3, 3)\n",
    "plt.scatter(x3,y1)\n",
    "plt.title(\"House price vs n.o. convenience store\",fontweight='bold',fontsize=10)\n",
    "plt.ylabel('house price',fontsize=13)\n",
    "\n",
    "\n",
    "#plot 4:\n",
    "y1 = real_estate[real_estate.columns.values[7]][0:414]\n",
    "x4 = real_estate[real_estate.columns.values[5]][0:414]\n",
    "plt.subplot(2, 3, 4)\n",
    "plt.scatter(x4,y1)\n",
    "plt.title(\"House price per unit area vs latitude\",fontweight='bold',fontsize=10)\n",
    "plt.ylabel('house price',fontsize=13)\n",
    "\n",
    "\n",
    "#plot 5:\n",
    "y1 = real_estate[real_estate.columns.values[7]][0:414]\n",
    "x5 = real_estate[real_estate.columns.values[6]][0:414]\n",
    "plt.subplot(2, 3, 5)\n",
    "plt.scatter(x5,y1)\n",
    "plt.title(\"House price per unit area vs longitude\",fontweight='bold',fontsize=10)\n",
    "plt.ylabel('house price',fontsize=13)\n",
    "\n",
    "\n",
    "\n",
    "fig.tight_layout()"
   ]
  },
  {
   "cell_type": "code",
   "execution_count": 6,
   "id": "eb644a7a",
   "metadata": {},
   "outputs": [],
   "source": [
    "#defined variable X and Y\n",
    "X = real_estate[['house age','distance to the nearest MRT station','number of convenience stores','latitude','longitude']] \n",
    "y = real_estate['house price of unit area']"
   ]
  },
  {
   "cell_type": "code",
   "execution_count": 7,
   "id": "3cc64fe8",
   "metadata": {},
   "outputs": [],
   "source": [
    "#using sklearn\n",
    "from sklearn.model_selection import train_test_split\n",
    "X_train, X_test, y_train, y_test = train_test_split(X, y, test_size=0.2, random_state=0)"
   ]
  },
  {
   "cell_type": "code",
   "execution_count": 8,
   "id": "0683471f",
   "metadata": {},
   "outputs": [
    {
     "data": {
      "text/plain": [
       "LinearRegression()"
      ]
     },
     "execution_count": 8,
     "metadata": {},
     "output_type": "execute_result"
    }
   ],
   "source": [
    "#made regression analysis\n",
    "from sklearn.linear_model import LinearRegression\n",
    "regressor = LinearRegression()\n",
    "regressor.fit(X_train, y_train)"
   ]
  },
  {
   "cell_type": "code",
   "execution_count": 9,
   "id": "1cff0b7a",
   "metadata": {},
   "outputs": [
    {
     "data": {
      "text/html": [
       "<div>\n",
       "<style scoped>\n",
       "    .dataframe tbody tr th:only-of-type {\n",
       "        vertical-align: middle;\n",
       "    }\n",
       "\n",
       "    .dataframe tbody tr th {\n",
       "        vertical-align: top;\n",
       "    }\n",
       "\n",
       "    .dataframe thead th {\n",
       "        text-align: right;\n",
       "    }\n",
       "</style>\n",
       "<table border=\"1\" class=\"dataframe\">\n",
       "  <thead>\n",
       "    <tr style=\"text-align: right;\">\n",
       "      <th></th>\n",
       "      <th>Coefficient</th>\n",
       "    </tr>\n",
       "  </thead>\n",
       "  <tbody>\n",
       "    <tr>\n",
       "      <th>house age</th>\n",
       "      <td>-0.264990</td>\n",
       "    </tr>\n",
       "    <tr>\n",
       "      <th>distance to the nearest MRT station</th>\n",
       "      <td>-0.004146</td>\n",
       "    </tr>\n",
       "    <tr>\n",
       "      <th>number of convenience stores</th>\n",
       "      <td>1.131915</td>\n",
       "    </tr>\n",
       "    <tr>\n",
       "      <th>latitude</th>\n",
       "      <td>239.912594</td>\n",
       "    </tr>\n",
       "    <tr>\n",
       "      <th>longitude</th>\n",
       "      <td>-1.235619</td>\n",
       "    </tr>\n",
       "  </tbody>\n",
       "</table>\n",
       "</div>"
      ],
      "text/plain": [
       "                                     Coefficient\n",
       "house age                              -0.264990\n",
       "distance to the nearest MRT station    -0.004146\n",
       "number of convenience stores            1.131915\n",
       "latitude                              239.912594\n",
       "longitude                              -1.235619"
      ]
     },
     "execution_count": 9,
     "metadata": {},
     "output_type": "execute_result"
    }
   ],
   "source": [
    "#extracted coeff for each variable\n",
    "coeff_df = pd.DataFrame(regressor.coef_, X.columns, columns=['Coefficient'])\n",
    "coeff_df"
   ]
  },
  {
   "cell_type": "code",
   "execution_count": 10,
   "id": "832f3fe0",
   "metadata": {},
   "outputs": [],
   "source": [
    "#defined y_pred\n",
    "y_pred = regressor.predict(X_test)"
   ]
  },
  {
   "cell_type": "code",
   "execution_count": 21,
   "id": "7ad566c2",
   "metadata": {},
   "outputs": [],
   "source": [
    "#made a dataframe\n",
    "y_pred_df = pd.DataFrame({'Actual': y_test, 'Predicted': y_pred})\n",
    "y_pred_df = y_pred_df.sort_index(ascending=True)"
   ]
  },
  {
   "cell_type": "code",
   "execution_count": 22,
   "id": "1cfb80ab",
   "metadata": {
    "scrolled": true
   },
   "outputs": [
    {
     "data": {
      "text/html": [
       "<div>\n",
       "<style scoped>\n",
       "    .dataframe tbody tr th:only-of-type {\n",
       "        vertical-align: middle;\n",
       "    }\n",
       "\n",
       "    .dataframe tbody tr th {\n",
       "        vertical-align: top;\n",
       "    }\n",
       "\n",
       "    .dataframe thead th {\n",
       "        text-align: right;\n",
       "    }\n",
       "</style>\n",
       "<table border=\"1\" class=\"dataframe\">\n",
       "  <thead>\n",
       "    <tr style=\"text-align: right;\">\n",
       "      <th></th>\n",
       "      <th>Actual</th>\n",
       "      <th>Predicted</th>\n",
       "    </tr>\n",
       "  </thead>\n",
       "  <tbody>\n",
       "    <tr>\n",
       "      <th>1</th>\n",
       "      <td>42.2</td>\n",
       "      <td>49.082182</td>\n",
       "    </tr>\n",
       "    <tr>\n",
       "      <th>4</th>\n",
       "      <td>43.1</td>\n",
       "      <td>47.812386</td>\n",
       "    </tr>\n",
       "    <tr>\n",
       "      <th>5</th>\n",
       "      <td>32.1</td>\n",
       "      <td>33.715458</td>\n",
       "    </tr>\n",
       "    <tr>\n",
       "      <th>6</th>\n",
       "      <td>40.3</td>\n",
       "      <td>41.291259</td>\n",
       "    </tr>\n",
       "    <tr>\n",
       "      <th>7</th>\n",
       "      <td>46.7</td>\n",
       "      <td>45.568955</td>\n",
       "    </tr>\n",
       "    <tr>\n",
       "      <th>...</th>\n",
       "      <td>...</td>\n",
       "      <td>...</td>\n",
       "    </tr>\n",
       "    <tr>\n",
       "      <th>371</th>\n",
       "      <td>51.7</td>\n",
       "      <td>42.748119</td>\n",
       "    </tr>\n",
       "    <tr>\n",
       "      <th>374</th>\n",
       "      <td>49.5</td>\n",
       "      <td>47.706390</td>\n",
       "    </tr>\n",
       "    <tr>\n",
       "      <th>384</th>\n",
       "      <td>12.9</td>\n",
       "      <td>15.286417</td>\n",
       "    </tr>\n",
       "    <tr>\n",
       "      <th>402</th>\n",
       "      <td>28.5</td>\n",
       "      <td>40.784775</td>\n",
       "    </tr>\n",
       "    <tr>\n",
       "      <th>413</th>\n",
       "      <td>63.9</td>\n",
       "      <td>51.976833</td>\n",
       "    </tr>\n",
       "  </tbody>\n",
       "</table>\n",
       "<p>83 rows × 2 columns</p>\n",
       "</div>"
      ],
      "text/plain": [
       "     Actual  Predicted\n",
       "1      42.2  49.082182\n",
       "4      43.1  47.812386\n",
       "5      32.1  33.715458\n",
       "6      40.3  41.291259\n",
       "7      46.7  45.568955\n",
       "..      ...        ...\n",
       "371    51.7  42.748119\n",
       "374    49.5  47.706390\n",
       "384    12.9  15.286417\n",
       "402    28.5  40.784775\n",
       "413    63.9  51.976833\n",
       "\n",
       "[83 rows x 2 columns]"
      ]
     },
     "execution_count": 22,
     "metadata": {},
     "output_type": "execute_result"
    }
   ],
   "source": [
    "y_pred_df"
   ]
  },
  {
   "cell_type": "code",
   "execution_count": 25,
   "id": "5a28831f",
   "metadata": {},
   "outputs": [
    {
     "data": {
      "text/plain": [
       "Text(0.5, 1.0, 'The comparison between actual and predicted value')"
      ]
     },
     "execution_count": 25,
     "metadata": {},
     "output_type": "execute_result"
    },
    {
     "data": {
      "image/png": "[encoded data removed]",
      "text/plain": [
       "<Figure size 720x360 with 1 Axes>"
      ]
     },
     "metadata": {
      "needs_background": "light"
     },
     "output_type": "display_data"
    }
   ],
   "source": [
    "y_pred_df[['Actual','Predicted']].plot(figsize=(10,5))\n",
    "plt.xlabel('Time',fontsize=13)\n",
    "plt.ylabel('Magnitude',fontsize=13)\n",
    "plt.title(\"The comparison between actual and predicted value\",fontweight='bold',fontsize=13)"
   ]
  },
  {
   "cell_type": "code",
   "execution_count": 24,
   "id": "e5f27011",
   "metadata": {},
   "outputs": [
    {
     "name": "stdout",
     "output_type": "stream",
     "text": [
      "Mean Absolute Error: 5.74592747546254\n",
      "Mean Squared Error: 62.172235622414014\n",
      "Root Mean Squared Error: 7.884937261793147\n"
     ]
    }
   ],
   "source": [
    "#evaluated model\n",
    "from sklearn import metrics\n",
    "import numpy as np\n",
    "print('Mean Absolute Error:', metrics.mean_absolute_error(y_test, y_pred))\n",
    "print('Mean Squared Error:', metrics.mean_squared_error(y_test, y_pred))\n",
    "print('Root Mean Squared Error:', np.sqrt(metrics.mean_squared_error(y_test, y_pred)))"
   ]
  },
  {
   "cell_type": "code",
   "execution_count": null,
   "id": "6ff4ee3b",
   "metadata": {},
   "outputs": [],
   "source": []
  }
 ],
 "metadata": {
  "kernelspec": {
   "display_name": "Python 3",
   "language": "python",
   "name": "python3"
  },
  "language_info": {
   "codemirror_mode": {
    "name": "ipython",
    "version": 3
   },
   "file_extension": ".py",
   "mimetype": "text/x-python",
   "name": "python",
   "nbconvert_exporter": "python",
   "pygments_lexer": "ipython3",
   "version": "3.8.8"
  }
 },
 "nbformat": 4,
 "nbformat_minor": 5
}
